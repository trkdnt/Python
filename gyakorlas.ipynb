{
 "cells": [
  {
   "cell_type": "code",
   "execution_count": 1,
   "metadata": {},
   "outputs": [],
   "source": [
    "import os"
   ]
  },
  {
   "cell_type": "code",
   "execution_count": 2,
   "metadata": {},
   "outputs": [
    {
     "name": "stdout",
     "output_type": "stream",
     "text": [
      "['Untitled-1.ipynb', 'gyakorlas.ipynb']\n"
     ]
    }
   ],
   "source": [
    "print(os.listdir())"
   ]
  },
  {
   "cell_type": "code",
   "execution_count": 6,
   "metadata": {},
   "outputs": [
    {
     "name": "stdout",
     "output_type": "stream",
     "text": [
      "nem lehetseges\n"
     ]
    }
   ],
   "source": [
    "def add(x,y):\n",
    "    if x==0 or y==0:\n",
    "        return(\"nem lehetseges\")\n",
    "    return x+y\n",
    "print(add(0,4))"
   ]
  },
  {
   "cell_type": "code",
   "execution_count": 7,
   "metadata": {},
   "outputs": [
    {
     "name": "stdout",
     "output_type": "stream",
     "text": [
      "Requirement already satisfied: pandas in /Users/donattorok/anaconda3/lib/python3.11/site-packages (1.5.3)\n",
      "Requirement already satisfied: python-dateutil>=2.8.1 in /Users/donattorok/anaconda3/lib/python3.11/site-packages (from pandas) (2.8.2)\n",
      "Requirement already satisfied: pytz>=2020.1 in /Users/donattorok/anaconda3/lib/python3.11/site-packages (from pandas) (2022.7)\n",
      "Requirement already satisfied: numpy>=1.21.0 in /Users/donattorok/anaconda3/lib/python3.11/site-packages (from pandas) (1.24.3)\n",
      "Requirement already satisfied: six>=1.5 in /Users/donattorok/anaconda3/lib/python3.11/site-packages (from python-dateutil>=2.8.1->pandas) (1.16.0)\n",
      "Note: you may need to restart the kernel to use updated packages.\n"
     ]
    }
   ],
   "source": [
    "pip install pandas"
   ]
  },
  {
   "cell_type": "code",
   "execution_count": 12,
   "metadata": {},
   "outputs": [
    {
     "name": "stdout",
     "output_type": "stream",
     "text": [
      "1\n"
     ]
    }
   ],
   "source": [
    "import pandas as pd\n",
    "df=pd.read_csv(\"gyakorlati_adatbazis.csv\")\n",
    "valami=0\n",
    "for i in df[\"Varos\"]:\n",
    "    if i == \"East Ryan\":\n",
    "        valami+=1\n",
    "print(valami)"
   ]
  },
  {
   "cell_type": "code",
   "execution_count": 26,
   "metadata": {},
   "outputs": [
    {
     "data": {
      "text/html": [
       "<div>\n",
       "<style scoped>\n",
       "    .dataframe tbody tr th:only-of-type {\n",
       "        vertical-align: middle;\n",
       "    }\n",
       "\n",
       "    .dataframe tbody tr th {\n",
       "        vertical-align: top;\n",
       "    }\n",
       "\n",
       "    .dataframe thead th {\n",
       "        text-align: right;\n",
       "    }\n",
       "</style>\n",
       "<table border=\"1\" class=\"dataframe\">\n",
       "  <thead>\n",
       "    <tr style=\"text-align: right;\">\n",
       "      <th></th>\n",
       "      <th>ID</th>\n",
       "      <th>Nev</th>\n",
       "      <th>Kor</th>\n",
       "      <th>Varos</th>\n",
       "      <th>Email</th>\n",
       "    </tr>\n",
       "  </thead>\n",
       "  <tbody>\n",
       "    <tr>\n",
       "      <th>0</th>\n",
       "      <td>1</td>\n",
       "      <td>Jessica Brooks</td>\n",
       "      <td>-19</td>\n",
       "      <td>North Ryan</td>\n",
       "      <td>kyle34@yahoo.com</td>\n",
       "    </tr>\n",
       "    <tr>\n",
       "      <th>1</th>\n",
       "      <td>2</td>\n",
       "      <td>Thomas Watson</td>\n",
       "      <td>-15</td>\n",
       "      <td>Hoffmanview</td>\n",
       "      <td>millernathan@flores.com</td>\n",
       "    </tr>\n",
       "    <tr>\n",
       "      <th>2</th>\n",
       "      <td>3</td>\n",
       "      <td>Eric Li</td>\n",
       "      <td>-22</td>\n",
       "      <td>South Denise</td>\n",
       "      <td>jeffery74@klein.com</td>\n",
       "    </tr>\n",
       "    <tr>\n",
       "      <th>3</th>\n",
       "      <td>4</td>\n",
       "      <td>Caleb Riddle</td>\n",
       "      <td>-20</td>\n",
       "      <td>West Brianna</td>\n",
       "      <td>adkinsvincent@woods.com</td>\n",
       "    </tr>\n",
       "    <tr>\n",
       "      <th>4</th>\n",
       "      <td>5</td>\n",
       "      <td>Peter Wilson</td>\n",
       "      <td>-38</td>\n",
       "      <td>New Ryanshire</td>\n",
       "      <td>kingdeanna@duffy-christensen.com</td>\n",
       "    </tr>\n",
       "  </tbody>\n",
       "</table>\n",
       "</div>"
      ],
      "text/plain": [
       "   ID             Nev  Kor          Varos                             Email\n",
       "0   1  Jessica Brooks  -19     North Ryan                  kyle34@yahoo.com\n",
       "1   2   Thomas Watson  -15    Hoffmanview           millernathan@flores.com\n",
       "2   3         Eric Li  -22   South Denise               jeffery74@klein.com\n",
       "3   4    Caleb Riddle  -20   West Brianna           adkinsvincent@woods.com\n",
       "4   5    Peter Wilson  -38  New Ryanshire  kingdeanna@duffy-christensen.com"
      ]
     },
     "execution_count": 26,
     "metadata": {},
     "output_type": "execute_result"
    }
   ],
   "source": [
    "df.loc[df[\"Varos\"]==\"East Ryan\",\"Varos\"]=\"West Ryan\"\n",
    "df[\"Varos\"] = df[\"Varos\"].replace(\"West Ryan\", \"North Ryan\")\n",
    "\n",
    "df.head()"
   ]
  },
  {
   "cell_type": "code",
   "execution_count": 27,
   "metadata": {},
   "outputs": [
    {
     "data": {
      "image/png": "[encoded data removed]",
      "text/plain": [
       "<Figure size 1000x600 with 1 Axes>"
      ]
     },
     "metadata": {},
     "output_type": "display_data"
    }
   ],
   "source": [
    "import matplotlib.pyplot as plt\n",
    "\n",
    "# Adat létrehozása a diagramhoz\n",
    "ages = df[\"Kor\"].value_counts().sort_index()  # Életkor előfordulásainak száma\n",
    "\n",
    "# Diagram létrehozása\n",
    "plt.figure(figsize=(10, 6))\n",
    "plt.bar(ages.index, ages.values, color=\"skyblue\", edgecolor=\"black\")\n",
    "plt.title(\"Kor eloszlása\")\n",
    "plt.xlabel(\"Kor (Életkor)\")\n",
    "plt.ylabel(\"Előfordulás (Frekvencia)\")\n",
    "plt.grid(axis=\"y\", linestyle=\"--\", alpha=0.7)\n",
    "plt.show()\n"
   ]
  }
 ],
 "metadata": {
  "kernelspec": {
   "display_name": "base",
   "language": "python",
   "name": "python3"
  },
  "language_info": {
   "codemirror_mode": {
    "name": "ipython",
    "version": 3
   },
   "file_extension": ".py",
   "mimetype": "text/x-python",
   "name": "python",
   "nbconvert_exporter": "python",
   "pygments_lexer": "ipython3",
   "version": "3.11.4"
  }
 },
 "nbformat": 4,
 "nbformat_minor": 2
}
