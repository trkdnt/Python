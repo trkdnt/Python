{
 "cells": [
  {
   "cell_type": "code",
   "execution_count": 10,
   "metadata": {},
   "outputs": [
    {
     "name": "stdout",
     "output_type": "stream",
     "text": [
      "A befektetés végösszege 120 hónap után kamattal: 64174021.13 Ft\n",
      "A befektetés végösszege 120 hónap után hozam nélkül: 18500000.00 Ft\n"
     ]
    }
   ],
   "source": [
    "def kamatos_kamat(kezdo_toke, havi_befizetes, hozam, honapok):\n",
    "    teljes_osszeg = kezdo_toke\n",
    "    hozam_nelkul = kezdo_toke\n",
    "    hozam_havonta = hozam / 100 / 12\n",
    "\n",
    "    # Kamattal növelt összeg számítása\n",
    "    for honap in range(honapok):\n",
    "        teljes_osszeg = teljes_osszeg * (1 + hozam_havonta) + havi_befizetes\n",
    "\n",
    "    # Hozam nélküli összeg számítása\n",
    "    hozam_nelkul += havi_befizetes * honapok\n",
    "\n",
    "    return teljes_osszeg, hozam_nelkul\n",
    "\n",
    "# Paraméterek\n",
    "kezdo_toke = float(input(\"Add meg a kezdeti befektetett tőkét (Ft): \"))\n",
    "havi_befizetes = float(input(\"Add meg a havonta befizetett összeget (Ft): \"))\n",
    "hozam = float(input(\"Add meg a hozamot éves százalékban (%): \"))\n",
    "honapok = int(input(\"Add meg a befektetés futamidejét hónapokban: \"))\n",
    "\n",
    "# Számítás\n",
    "vegosszeg, befektetett_osszeg = kamatos_kamat(kezdo_toke, havi_befizetes, hozam, honapok)\n",
    "print(f\"A befektetés végösszege {honapok} hónap után kamattal: {vegosszeg:.2f} Ft\")\n",
    "print(f\"A befektetés végösszege {honapok} hónap után hozam nélkül: {befektetett_osszeg:.2f} Ft\")\n"
   ]
  },
  {
   "cell_type": "code",
   "execution_count": null,
   "metadata": {},
   "outputs": [],
   "source": []
  }
 ],
 "metadata": {
  "kernelspec": {
   "display_name": "base",
   "language": "python",
   "name": "python3"
  },
  "language_info": {
   "codemirror_mode": {
    "name": "ipython",
    "version": 3
   },
   "file_extension": ".py",
   "mimetype": "text/x-python",
   "name": "python",
   "nbconvert_exporter": "python",
   "pygments_lexer": "ipython3",
   "version": "3.11.4"
  }
 },
 "nbformat": 4,
 "nbformat_minor": 2
}
